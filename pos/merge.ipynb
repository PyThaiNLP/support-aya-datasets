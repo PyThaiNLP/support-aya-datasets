{
 "cells": [
  {
   "cell_type": "code",
   "execution_count": 1,
   "metadata": {},
   "outputs": [],
   "source": [
    "import pandas as pd\n",
    "from pathlib import Path\n",
    "import os\n",
    "from collections import defaultdict\n",
    "from pythainlp.tag.blackboard import post_process"
   ]
  },
  {
   "cell_type": "code",
   "execution_count": 2,
   "metadata": {},
   "outputs": [],
   "source": [
    "train = Path(os.path.join('.','blackboard-treebank','thai10'))\n",
    "train_files = [f for f in train.iterdir() if not f.name.startswith('.')]\n",
    "def readfile(path):\n",
    "    _data = []\n",
    "    with open(path,'r',encoding=\"utf-8-sig\") as f:\n",
    "        _temp = [i for i in f.read().split(\"\\n\\n\") if i != '']\n",
    "    for j in _temp:\n",
    "        _temp_data = []\n",
    "        bad_data = False\n",
    "        for i in j.split(\"\\n\"):\n",
    "            if i.startswith('#') == False and not bad_data:\n",
    "                _t = i.strip().split(\"\\t\")\n",
    "                if _t[1]!=\"$$\":\n",
    "                    if _t[3]==\"N\":\n",
    "                        _temp_data=[]\n",
    "                        bad_data=True\n",
    "                    else:\n",
    "                        _temp_data.append((_t[1],_t[3]))\n",
    "        if _temp_data!=[]:\n",
    "            _data.append(_temp_data)\n",
    "    return _data\n",
    "train_data = []\n",
    "for file in train_files:\n",
    "    train_data.extend(readfile(file))\n",
    "train_data_ud = [post_process(i,to_ud=True) for i in train_data]\n",
    "pos_dict = defaultdict(list)\n",
    "for i in train_data_ud:\n",
    "    _word= [k for k,_ in i]\n",
    "    _pos = ' / '.join([k for _,k in i])\n",
    "    pos_dict[_pos].append(_word)\n",
    "temp=\"จงสร้างประโยคตามโครงสร้าง {pos}:\"\n",
    "inputs=[]\n",
    "targets=[]\n",
    "for i in sorted(list(pos_dict.keys())):\n",
    "    if i.count(\"/\")<1:\n",
    "        continue\n",
    "    for k in pos_dict[i]:\n",
    "        inputs.append(temp.format(pos=i))\n",
    "        targets.append(' '.join(k))\n",
    "df_train = {\n",
    "    \"inputs\":inputs,\n",
    "    \"targets\":targets,\n",
    "}"
   ]
  },
  {
   "cell_type": "code",
   "execution_count": 3,
   "metadata": {},
   "outputs": [],
   "source": [
    "path = \"th_pud-ud-test.conllu\"\n",
    "test_data_ud = readfile(path)\n",
    "pos_dict = defaultdict(list)\n",
    "for i in test_data_ud:\n",
    "    _word= [k for k,_ in i]\n",
    "    _pos = ' / '.join([k for _,k in i])\n",
    "    pos_dict[_pos].append(_word)\n",
    "inputs=[]\n",
    "targets=[]\n",
    "for i in sorted(list(pos_dict.keys())):\n",
    "    if i.count(\"/\")<1:\n",
    "        continue\n",
    "    for k in pos_dict[i]:\n",
    "        inputs.append(temp.format(pos=i))\n",
    "        targets.append(' '.join(k))\n",
    "df_test = {\n",
    "    \"inputs\":inputs,\n",
    "    \"targets\":targets,\n",
    "}"
   ]
  },
  {
   "cell_type": "code",
   "execution_count": 4,
   "metadata": {},
   "outputs": [],
   "source": [
    "from datasets import Dataset, DatasetDict"
   ]
  },
  {
   "cell_type": "code",
   "execution_count": 5,
   "metadata": {},
   "outputs": [],
   "source": [
    "ds = DatasetDict()\n",
    "ds['test'] = Dataset.from_dict(df_test)\n",
    "ds['train'] = Dataset.from_dict(df_train)"
   ]
  },
  {
   "cell_type": "code",
   "execution_count": 8,
   "metadata": {},
   "outputs": [
    {
     "data": {
      "text/plain": [
       "DatasetDict({\n",
       "    test: Dataset({\n",
       "        features: ['inputs', 'targets'],\n",
       "        num_rows: 1000\n",
       "    })\n",
       "    train: Dataset({\n",
       "        features: ['inputs', 'targets'],\n",
       "        num_rows: 130454\n",
       "    })\n",
       "})"
      ]
     },
     "execution_count": 8,
     "metadata": {},
     "output_type": "execute_result"
    }
   ],
   "source": [
    "ds"
   ]
  },
  {
   "cell_type": "code",
   "execution_count": 9,
   "metadata": {},
   "outputs": [
    {
     "data": {
      "text/html": [
       "<div>\n",
       "<style scoped>\n",
       "    .dataframe tbody tr th:only-of-type {\n",
       "        vertical-align: middle;\n",
       "    }\n",
       "\n",
       "    .dataframe tbody tr th {\n",
       "        vertical-align: top;\n",
       "    }\n",
       "\n",
       "    .dataframe thead th {\n",
       "        text-align: right;\n",
       "    }\n",
       "</style>\n",
       "<table border=\"1\" class=\"dataframe\">\n",
       "  <thead>\n",
       "    <tr style=\"text-align: right;\">\n",
       "      <th></th>\n",
       "      <th>inputs</th>\n",
       "      <th>targets</th>\n",
       "    </tr>\n",
       "  </thead>\n",
       "  <tbody>\n",
       "    <tr>\n",
       "      <th>0</th>\n",
       "      <td>จงสร้างประโยคตามโครงสร้าง ADJ / ADJ / AUX / VE...</td>\n",
       "      <td>ก่อน อื่น ต้อง ขอ แสดง ความ ยินดี กับ ยานินา ด้วย</td>\n",
       "    </tr>\n",
       "    <tr>\n",
       "      <th>1</th>\n",
       "      <td>จงสร้างประโยคตามโครงสร้าง ADJ / ADJ / NOUN / A...</td>\n",
       "      <td>ตลอด ทั้ง วัน ของ วันที่ 17 ส.ค. มี กระแส ข่าว...</td>\n",
       "    </tr>\n",
       "    <tr>\n",
       "      <th>2</th>\n",
       "      <td>จงสร้างประโยคตามโครงสร้าง ADJ / ADJ / NOUN / N...</td>\n",
       "      <td>อีก สัก พัก หลักฐาน ต่าง จะ ออก มา</td>\n",
       "    </tr>\n",
       "    <tr>\n",
       "      <th>3</th>\n",
       "      <td>จงสร้างประโยคตามโครงสร้าง ADJ / ADJ / NUM / NO...</td>\n",
       "      <td>อีก ประมาณ 2-3 วัน จะ ให้การ กับ เจ้าหน้าที่ ได้</td>\n",
       "    </tr>\n",
       "    <tr>\n",
       "      <th>4</th>\n",
       "      <td>จงสร้างประโยคตามโครงสร้าง ADJ / ADJ / NUM / NU...</td>\n",
       "      <td>อีก ประมาณ เก้า พัน สาม ร้อย ล้าน บาท แล้ว ก็ ...</td>\n",
       "    </tr>\n",
       "    <tr>\n",
       "      <th>...</th>\n",
       "      <td>...</td>\n",
       "      <td>...</td>\n",
       "    </tr>\n",
       "    <tr>\n",
       "      <th>130449</th>\n",
       "      <td>จงสร้างประโยคตามโครงสร้าง VERB / VERB / VERB /...</td>\n",
       "      <td>ค้าน ประกัน หวั่น หลบหนี เจ้าตัว ยัง ให้การ ปฏ...</td>\n",
       "    </tr>\n",
       "    <tr>\n",
       "      <th>130450</th>\n",
       "      <td>จงสร้างประโยคตามโครงสร้าง VERB / VERB / VERB /...</td>\n",
       "      <td>ขาย ดี มาก มี เท่า ไร ก็ ขาย หมด ขณะนี้ โรง งาน</td>\n",
       "    </tr>\n",
       "    <tr>\n",
       "      <th>130451</th>\n",
       "      <td>จงสร้างประโยคตามโครงสร้าง VERB / VERB / VERB /...</td>\n",
       "      <td>ชวน เตือน อย่า มอง ข้าม นปช.</td>\n",
       "    </tr>\n",
       "    <tr>\n",
       "      <th>130452</th>\n",
       "      <td>จงสร้างประโยคตามโครงสร้าง VERB / VERB / VERB /...</td>\n",
       "      <td>เน้น ลุย กวาดล้าง จริงจัง ตาม กฎเหล็ก</td>\n",
       "    </tr>\n",
       "    <tr>\n",
       "      <th>130453</th>\n",
       "      <td>จงสร้างประโยคตามโครงสร้าง VERB / VERB / VERB /...</td>\n",
       "      <td>โกรธ คือ โง่ โมโห คือ บ้า อย่า ไป ถือสา คน</td>\n",
       "    </tr>\n",
       "  </tbody>\n",
       "</table>\n",
       "<p>130454 rows × 2 columns</p>\n",
       "</div>"
      ],
      "text/plain": [
       "                                                   inputs  \\\n",
       "0       จงสร้างประโยคตามโครงสร้าง ADJ / ADJ / AUX / VE...   \n",
       "1       จงสร้างประโยคตามโครงสร้าง ADJ / ADJ / NOUN / A...   \n",
       "2       จงสร้างประโยคตามโครงสร้าง ADJ / ADJ / NOUN / N...   \n",
       "3       จงสร้างประโยคตามโครงสร้าง ADJ / ADJ / NUM / NO...   \n",
       "4       จงสร้างประโยคตามโครงสร้าง ADJ / ADJ / NUM / NU...   \n",
       "...                                                   ...   \n",
       "130449  จงสร้างประโยคตามโครงสร้าง VERB / VERB / VERB /...   \n",
       "130450  จงสร้างประโยคตามโครงสร้าง VERB / VERB / VERB /...   \n",
       "130451  จงสร้างประโยคตามโครงสร้าง VERB / VERB / VERB /...   \n",
       "130452  จงสร้างประโยคตามโครงสร้าง VERB / VERB / VERB /...   \n",
       "130453  จงสร้างประโยคตามโครงสร้าง VERB / VERB / VERB /...   \n",
       "\n",
       "                                                  targets  \n",
       "0       ก่อน อื่น ต้อง ขอ แสดง ความ ยินดี กับ ยานินา ด้วย  \n",
       "1       ตลอด ทั้ง วัน ของ วันที่ 17 ส.ค. มี กระแส ข่าว...  \n",
       "2                      อีก สัก พัก หลักฐาน ต่าง จะ ออก มา  \n",
       "3        อีก ประมาณ 2-3 วัน จะ ให้การ กับ เจ้าหน้าที่ ได้  \n",
       "4       อีก ประมาณ เก้า พัน สาม ร้อย ล้าน บาท แล้ว ก็ ...  \n",
       "...                                                   ...  \n",
       "130449  ค้าน ประกัน หวั่น หลบหนี เจ้าตัว ยัง ให้การ ปฏ...  \n",
       "130450    ขาย ดี มาก มี เท่า ไร ก็ ขาย หมด ขณะนี้ โรง งาน  \n",
       "130451                       ชวน เตือน อย่า มอง ข้าม นปช.  \n",
       "130452              เน้น ลุย กวาดล้าง จริงจัง ตาม กฎเหล็ก  \n",
       "130453         โกรธ คือ โง่ โมโห คือ บ้า อย่า ไป ถือสา คน  \n",
       "\n",
       "[130454 rows x 2 columns]"
      ]
     },
     "execution_count": 9,
     "metadata": {},
     "output_type": "execute_result"
    }
   ],
   "source": [
    "ds[\"train\"].to_pandas()"
   ]
  },
  {
   "cell_type": "code",
   "execution_count": 10,
   "metadata": {},
   "outputs": [
    {
     "data": {
      "text/html": [
       "<div>\n",
       "<style scoped>\n",
       "    .dataframe tbody tr th:only-of-type {\n",
       "        vertical-align: middle;\n",
       "    }\n",
       "\n",
       "    .dataframe tbody tr th {\n",
       "        vertical-align: top;\n",
       "    }\n",
       "\n",
       "    .dataframe thead th {\n",
       "        text-align: right;\n",
       "    }\n",
       "</style>\n",
       "<table border=\"1\" class=\"dataframe\">\n",
       "  <thead>\n",
       "    <tr style=\"text-align: right;\">\n",
       "      <th></th>\n",
       "      <th>inputs</th>\n",
       "      <th>targets</th>\n",
       "    </tr>\n",
       "  </thead>\n",
       "  <tbody>\n",
       "    <tr>\n",
       "      <th>0</th>\n",
       "      <td>จงสร้างประโยคตามโครงสร้าง ADJ / ADP / NOUN / A...</td>\n",
       "      <td>อุดม ด้วย แร่ธาตุ โดย เป็น แหล่ง ของ ทองคำ เพช...</td>\n",
       "    </tr>\n",
       "    <tr>\n",
       "      <th>1</th>\n",
       "      <td>จงสร้างประโยคตามโครงสร้าง ADJ / ADP / NOUN / D...</td>\n",
       "      <td>การเสมอ ใน เกม ที่ คุณ เหนือ กว่า เป็น เรื่อง ...</td>\n",
       "    </tr>\n",
       "    <tr>\n",
       "      <th>2</th>\n",
       "      <td>จงสร้างประโยคตามโครงสร้าง ADJ / ADP / PRON / A...</td>\n",
       "      <td>แน่นอน ว่า นี่ คือ การเลือกตั้ง ไม่ ใช่ \" มหาศ...</td>\n",
       "    </tr>\n",
       "    <tr>\n",
       "      <th>3</th>\n",
       "      <td>จงสร้างประโยคตามโครงสร้าง ADJ / ADP / PROPN / ...</td>\n",
       "      <td>แน่นอน ว่า จีน จะ จัด แสดง ยุทโธปกรณ์ อื่น ๆ อ...</td>\n",
       "    </tr>\n",
       "    <tr>\n",
       "      <th>4</th>\n",
       "      <td>จงสร้างประโยคตามโครงสร้าง ADJ / ADP / VERB / N...</td>\n",
       "      <td>โชคดี ที่ มี คน จาก โซนี่ ออสเตรเลีย ที่ มา ปร...</td>\n",
       "    </tr>\n",
       "    <tr>\n",
       "      <th>...</th>\n",
       "      <td>...</td>\n",
       "      <td>...</td>\n",
       "    </tr>\n",
       "    <tr>\n",
       "      <th>995</th>\n",
       "      <td>จงสร้างประโยคตามโครงสร้าง VERB / VERB / PART /...</td>\n",
       "      <td>การค้า พัฒนา ขึ้น จาก การตั้ง ด่าน ชั้น นอก เพ...</td>\n",
       "    </tr>\n",
       "    <tr>\n",
       "      <th>996</th>\n",
       "      <td>จงสร้างประโยคตามโครงสร้าง VERB / VERB / PART /...</td>\n",
       "      <td>กระโดด ข้าม ไป ปี 2016 แล้ว เรื่อง นี้ จะ ยิ่ง...</td>\n",
       "    </tr>\n",
       "    <tr>\n",
       "      <th>997</th>\n",
       "      <td>จงสร้างประโยคตามโครงสร้าง VERB / VERB / PROPN ...</td>\n",
       "      <td>การจัด จำแนก เบอร์เกรอน เป็น การจัด ประเภท มวล...</td>\n",
       "    </tr>\n",
       "    <tr>\n",
       "      <th>998</th>\n",
       "      <td>จงสร้างประโยคตามโครงสร้าง VERB / VERB / VERB /...</td>\n",
       "      <td>ก่อ ให้ เกิด เส้น ทาง การค้า การล่า อาณานิคม แ...</td>\n",
       "    </tr>\n",
       "    <tr>\n",
       "      <th>999</th>\n",
       "      <td>จงสร้างประโยคตามโครงสร้าง VERB / VERB / VERB /...</td>\n",
       "      <td>การวิเคราะห์ แสดง ให้ เห็น ความสัมพันธ์ โดยตรง...</td>\n",
       "    </tr>\n",
       "  </tbody>\n",
       "</table>\n",
       "<p>1000 rows × 2 columns</p>\n",
       "</div>"
      ],
      "text/plain": [
       "                                                inputs  \\\n",
       "0    จงสร้างประโยคตามโครงสร้าง ADJ / ADP / NOUN / A...   \n",
       "1    จงสร้างประโยคตามโครงสร้าง ADJ / ADP / NOUN / D...   \n",
       "2    จงสร้างประโยคตามโครงสร้าง ADJ / ADP / PRON / A...   \n",
       "3    จงสร้างประโยคตามโครงสร้าง ADJ / ADP / PROPN / ...   \n",
       "4    จงสร้างประโยคตามโครงสร้าง ADJ / ADP / VERB / N...   \n",
       "..                                                 ...   \n",
       "995  จงสร้างประโยคตามโครงสร้าง VERB / VERB / PART /...   \n",
       "996  จงสร้างประโยคตามโครงสร้าง VERB / VERB / PART /...   \n",
       "997  จงสร้างประโยคตามโครงสร้าง VERB / VERB / PROPN ...   \n",
       "998  จงสร้างประโยคตามโครงสร้าง VERB / VERB / VERB /...   \n",
       "999  จงสร้างประโยคตามโครงสร้าง VERB / VERB / VERB /...   \n",
       "\n",
       "                                               targets  \n",
       "0    อุดม ด้วย แร่ธาตุ โดย เป็น แหล่ง ของ ทองคำ เพช...  \n",
       "1    การเสมอ ใน เกม ที่ คุณ เหนือ กว่า เป็น เรื่อง ...  \n",
       "2    แน่นอน ว่า นี่ คือ การเลือกตั้ง ไม่ ใช่ \" มหาศ...  \n",
       "3    แน่นอน ว่า จีน จะ จัด แสดง ยุทโธปกรณ์ อื่น ๆ อ...  \n",
       "4    โชคดี ที่ มี คน จาก โซนี่ ออสเตรเลีย ที่ มา ปร...  \n",
       "..                                                 ...  \n",
       "995  การค้า พัฒนา ขึ้น จาก การตั้ง ด่าน ชั้น นอก เพ...  \n",
       "996  กระโดด ข้าม ไป ปี 2016 แล้ว เรื่อง นี้ จะ ยิ่ง...  \n",
       "997  การจัด จำแนก เบอร์เกรอน เป็น การจัด ประเภท มวล...  \n",
       "998  ก่อ ให้ เกิด เส้น ทาง การค้า การล่า อาณานิคม แ...  \n",
       "999  การวิเคราะห์ แสดง ให้ เห็น ความสัมพันธ์ โดยตรง...  \n",
       "\n",
       "[1000 rows x 2 columns]"
      ]
     },
     "execution_count": 10,
     "metadata": {},
     "output_type": "execute_result"
    }
   ],
   "source": [
    "ds[\"test\"].to_pandas()"
   ]
  },
  {
   "cell_type": "code",
   "execution_count": 11,
   "metadata": {},
   "outputs": [
    {
     "name": "stderr",
     "output_type": "stream",
     "text": [
      "Pushing split test to the Hub.\n"
     ]
    },
    {
     "data": {
      "application/vnd.jupyter.widget-view+json": {
       "model_id": "06cab9ee7f0746398f3b7690ffcaec2d",
       "version_major": 2,
       "version_minor": 0
      },
      "text/plain": [
       "Pushing dataset shards to the dataset hub:   0%|          | 0/1 [00:00<?, ?it/s]"
      ]
     },
     "metadata": {},
     "output_type": "display_data"
    },
    {
     "name": "stderr",
     "output_type": "stream",
     "text": [
      "Pushing split train to the Hub.\n"
     ]
    },
    {
     "data": {
      "application/vnd.jupyter.widget-view+json": {
       "model_id": "e77d2ffea7f149a2abce1fc7c6173da5",
       "version_major": 2,
       "version_minor": 0
      },
      "text/plain": [
       "Pushing dataset shards to the dataset hub:   0%|          | 0/1 [00:00<?, ?it/s]"
      ]
     },
     "metadata": {},
     "output_type": "display_data"
    }
   ],
   "source": [
    "ds.push_to_hub(\"pythainlp/Thai-Pos-prompt\",private=False)"
   ]
  },
  {
   "cell_type": "code",
   "execution_count": null,
   "metadata": {},
   "outputs": [],
   "source": []
  }
 ],
 "metadata": {
  "kernelspec": {
   "display_name": "Python 3.8.13 ('base')",
   "language": "python",
   "name": "python3"
  },
  "language_info": {
   "codemirror_mode": {
    "name": "ipython",
    "version": 3
   },
   "file_extension": ".py",
   "mimetype": "text/x-python",
   "name": "python",
   "nbconvert_exporter": "python",
   "pygments_lexer": "ipython3",
   "version": "3.8.13"
  },
  "orig_nbformat": 4,
  "vscode": {
   "interpreter": {
    "hash": "a1d6ff38954a1cdba4cf61ffa51e42f4658fc35985cd256cd89123cae8466a39"
   }
  }
 },
 "nbformat": 4,
 "nbformat_minor": 2
}
