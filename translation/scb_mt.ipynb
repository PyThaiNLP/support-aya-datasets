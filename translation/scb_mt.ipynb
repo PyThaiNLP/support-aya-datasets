{
 "cells": [
  {
   "cell_type": "code",
   "execution_count": 1,
   "metadata": {},
   "outputs": [],
   "source": [
    "from datasets import load_dataset"
   ]
  },
  {
   "cell_type": "code",
   "execution_count": 2,
   "metadata": {},
   "outputs": [
    {
     "name": "stderr",
     "output_type": "stream",
     "text": [
      "Found cached dataset scb_mt_enth_2020 (/Users/wannaphongphatthiyaphaibun/.cache/huggingface/datasets/scb_mt_enth_2020/enth/1.0.0/3bb5a43042a84446b254e215a8b1604b454ad56ada3370309a6f6a3b480c86a8)\n"
     ]
    },
    {
     "data": {
      "application/vnd.jupyter.widget-view+json": {
       "model_id": "9c6c2e45c0174fb3a4d5b2a5932bce7d",
       "version_major": 2,
       "version_minor": 0
      },
      "text/plain": [
       "  0%|          | 0/3 [00:00<?, ?it/s]"
      ]
     },
     "metadata": {},
     "output_type": "display_data"
    }
   ],
   "source": [
    "dataset = load_dataset(\"scb_mt_enth_2020\",\"enth\")"
   ]
  },
  {
   "cell_type": "code",
   "execution_count": 5,
   "metadata": {},
   "outputs": [
    {
     "data": {
      "text/plain": [
       "DatasetDict({\n",
       "    train: Dataset({\n",
       "        features: ['translation', 'subdataset'],\n",
       "        num_rows: 801402\n",
       "    })\n",
       "    validation: Dataset({\n",
       "        features: ['translation', 'subdataset'],\n",
       "        num_rows: 100173\n",
       "    })\n",
       "    test: Dataset({\n",
       "        features: ['translation', 'subdataset'],\n",
       "        num_rows: 100177\n",
       "    })\n",
       "})"
      ]
     },
     "execution_count": 5,
     "metadata": {},
     "output_type": "execute_result"
    }
   ],
   "source": [
    "dataset"
   ]
  },
  {
   "cell_type": "code",
   "execution_count": 9,
   "metadata": {},
   "outputs": [],
   "source": [
    "en2th_temp=\"\"\"แปลประโยคหรือย่อหน้าต่อไปนี้จากภาษาอังกฤษเป็นภาษาไทย:\\n{en}\"\"\"\n",
    "th2en_temp=\"\"\"แปลประโยคหรือย่อหน้าต่อไปนี้จากภาษาไทยเป็นภาษาอังกฤษ:\\n{th}\"\"\""
   ]
  },
  {
   "cell_type": "code",
   "execution_count": 10,
   "metadata": {},
   "outputs": [],
   "source": [
    "from datasets import Dataset, DatasetDict\n",
    "en2th_ds = DatasetDict()\n",
    "th2en_ds = DatasetDict()"
   ]
  },
  {
   "cell_type": "code",
   "execution_count": 11,
   "metadata": {},
   "outputs": [],
   "source": [
    "ban_source=set([\"nus_sms\",\"paracrawl\"])"
   ]
  },
  {
   "cell_type": "code",
   "execution_count": 12,
   "metadata": {},
   "outputs": [],
   "source": [
    "en2th_train = {\n",
    "    \"inputs\":[],\n",
    "    \"targets\":[],\n",
    "}\n",
    "th2en_train = {\n",
    "    \"inputs\":[],\n",
    "    \"targets\":[],\n",
    "}\n",
    "_t = dataset[\"train\"]\n",
    "for i,s in zip(_t[\"translation\"],_t[\"subdataset\"]):\n",
    "    if s in ban_source:\n",
    "        continue\n",
    "    en=i[\"en\"]\n",
    "    th=i[\"th\"]\n",
    "    en2th_train[\"inputs\"].append(en2th_temp.format(en=en))\n",
    "    th2en_train[\"inputs\"].append(th2en_temp.format(th=th))\n",
    "    en2th_train[\"targets\"].append(th)\n",
    "    th2en_train[\"targets\"].append(en)"
   ]
  },
  {
   "cell_type": "code",
   "execution_count": 13,
   "metadata": {},
   "outputs": [],
   "source": [
    "en2th_val = {\n",
    "    \"inputs\":[],\n",
    "    \"targets\":[],\n",
    "}\n",
    "th2en_val = {\n",
    "    \"inputs\":[],\n",
    "    \"targets\":[],\n",
    "}\n",
    "_t = dataset[\"validation\"]\n",
    "for i,s in zip(_t[\"translation\"],_t[\"subdataset\"]):\n",
    "    if s in ban_source:\n",
    "        continue\n",
    "    en=i[\"en\"]\n",
    "    th=i[\"th\"]\n",
    "    en2th_val[\"inputs\"].append(en2th_temp.format(en=en))\n",
    "    th2en_val[\"inputs\"].append(th2en_temp.format(th=th))\n",
    "    en2th_val[\"targets\"].append(th)\n",
    "    th2en_val[\"targets\"].append(en)"
   ]
  },
  {
   "cell_type": "code",
   "execution_count": 14,
   "metadata": {},
   "outputs": [],
   "source": [
    "en2th_test = {\n",
    "    \"inputs\":[],\n",
    "    \"targets\":[],\n",
    "}\n",
    "th2en_test = {\n",
    "    \"inputs\":[],\n",
    "    \"targets\":[],\n",
    "}\n",
    "_t = dataset[\"test\"]\n",
    "for i,s in zip(_t[\"translation\"],_t[\"subdataset\"]):\n",
    "    if s in ban_source:\n",
    "        continue\n",
    "    en=i[\"en\"]\n",
    "    th=i[\"th\"]\n",
    "    en2th_test[\"inputs\"].append(en2th_temp.format(en=en))\n",
    "    th2en_test[\"inputs\"].append(th2en_temp.format(th=th))\n",
    "    en2th_test[\"targets\"].append(th)\n",
    "    th2en_test[\"targets\"].append(en)"
   ]
  },
  {
   "cell_type": "code",
   "execution_count": 15,
   "metadata": {},
   "outputs": [],
   "source": [
    "en2th_ds['train'] = Dataset.from_dict(en2th_train)\n",
    "en2th_ds['validation'] = Dataset.from_dict(en2th_val)\n",
    "en2th_ds['test'] = Dataset.from_dict(en2th_test)"
   ]
  },
  {
   "cell_type": "code",
   "execution_count": 16,
   "metadata": {},
   "outputs": [],
   "source": [
    "th2en_ds['train'] = Dataset.from_dict(th2en_train)\n",
    "th2en_ds['validation'] = Dataset.from_dict(th2en_val)\n",
    "th2en_ds['test'] = Dataset.from_dict(th2en_test)"
   ]
  },
  {
   "cell_type": "code",
   "execution_count": 17,
   "metadata": {},
   "outputs": [
    {
     "name": "stderr",
     "output_type": "stream",
     "text": [
      "Pushing split train to the Hub.\n"
     ]
    },
    {
     "data": {
      "application/vnd.jupyter.widget-view+json": {
       "model_id": "5ea281730b8d46c6b1e986a4d5acc388",
       "version_major": 2,
       "version_minor": 0
      },
      "text/plain": [
       "Pushing dataset shards to the dataset hub:   0%|          | 0/2 [00:00<?, ?it/s]"
      ]
     },
     "metadata": {},
     "output_type": "display_data"
    },
    {
     "name": "stderr",
     "output_type": "stream",
     "text": [
      "Pushing split validation to the Hub.\n"
     ]
    },
    {
     "data": {
      "application/vnd.jupyter.widget-view+json": {
       "model_id": "b34b963674c247d792aca9982ea1b1b2",
       "version_major": 2,
       "version_minor": 0
      },
      "text/plain": [
       "Pushing dataset shards to the dataset hub:   0%|          | 0/1 [00:00<?, ?it/s]"
      ]
     },
     "metadata": {},
     "output_type": "display_data"
    },
    {
     "name": "stderr",
     "output_type": "stream",
     "text": [
      "Pushing split test to the Hub.\n"
     ]
    },
    {
     "data": {
      "application/vnd.jupyter.widget-view+json": {
       "model_id": "ded8cbdf6bb04521a7e33a865e8f899f",
       "version_major": 2,
       "version_minor": 0
      },
      "text/plain": [
       "Pushing dataset shards to the dataset hub:   0%|          | 0/1 [00:00<?, ?it/s]"
      ]
     },
     "metadata": {},
     "output_type": "display_data"
    },
    {
     "name": "stderr",
     "output_type": "stream",
     "text": [
      "Pushing split train to the Hub.\n"
     ]
    },
    {
     "data": {
      "application/vnd.jupyter.widget-view+json": {
       "model_id": "eb55d69782384515a0441fb87e824fb5",
       "version_major": 2,
       "version_minor": 0
      },
      "text/plain": [
       "Pushing dataset shards to the dataset hub:   0%|          | 0/2 [00:00<?, ?it/s]"
      ]
     },
     "metadata": {},
     "output_type": "display_data"
    },
    {
     "name": "stderr",
     "output_type": "stream",
     "text": [
      "Pushing split validation to the Hub.\n"
     ]
    },
    {
     "data": {
      "application/vnd.jupyter.widget-view+json": {
       "model_id": "eee96e54504148fdbc90d3cf24b91b3b",
       "version_major": 2,
       "version_minor": 0
      },
      "text/plain": [
       "Pushing dataset shards to the dataset hub:   0%|          | 0/1 [00:00<?, ?it/s]"
      ]
     },
     "metadata": {},
     "output_type": "display_data"
    },
    {
     "name": "stderr",
     "output_type": "stream",
     "text": [
      "Pushing split test to the Hub.\n"
     ]
    },
    {
     "data": {
      "application/vnd.jupyter.widget-view+json": {
       "model_id": "7608793a13d84ef1b8dbef16bd1304a2",
       "version_major": 2,
       "version_minor": 0
      },
      "text/plain": [
       "Pushing dataset shards to the dataset hub:   0%|          | 0/1 [00:00<?, ?it/s]"
      ]
     },
     "metadata": {},
     "output_type": "display_data"
    }
   ],
   "source": [
    "en2th_ds.push_to_hub(\"pythainlp/scb_mt_2020_en2th_prompt\")\n",
    "th2en_ds.push_to_hub(\"pythainlp/scb_mt_2020_th2en_prompt\")"
   ]
  },
  {
   "cell_type": "code",
   "execution_count": null,
   "metadata": {},
   "outputs": [],
   "source": []
  }
 ],
 "metadata": {
  "kernelspec": {
   "display_name": "Python 3.8.13 ('base')",
   "language": "python",
   "name": "python3"
  },
  "language_info": {
   "codemirror_mode": {
    "name": "ipython",
    "version": 3
   },
   "file_extension": ".py",
   "mimetype": "text/x-python",
   "name": "python",
   "nbconvert_exporter": "python",
   "pygments_lexer": "ipython3",
   "version": "3.8.13"
  },
  "orig_nbformat": 4,
  "vscode": {
   "interpreter": {
    "hash": "a1d6ff38954a1cdba4cf61ffa51e42f4658fc35985cd256cd89123cae8466a39"
   }
  }
 },
 "nbformat": 4,
 "nbformat_minor": 2
}
