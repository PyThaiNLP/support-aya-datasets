{
 "cells": [
  {
   "cell_type": "code",
   "execution_count": 1,
   "metadata": {},
   "outputs": [],
   "source": [
    "from datasets import load_dataset"
   ]
  },
  {
   "cell_type": "code",
   "execution_count": 2,
   "metadata": {},
   "outputs": [
    {
     "name": "stderr",
     "output_type": "stream",
     "text": [
      "Using custom data configuration pythainlp--thai_usembassy-3c44cfaba0323b42\n",
      "Found cached dataset parquet (/Users/wannaphongphatthiyaphaibun/.cache/huggingface/datasets/pythainlp___parquet/pythainlp--thai_usembassy-3c44cfaba0323b42/0.0.0/2a3b91fbd88a2c90d1dbbb32b460cf621d31bd5b05b934492fdef7d8d6f236ec)\n"
     ]
    },
    {
     "data": {
      "application/vnd.jupyter.widget-view+json": {
       "model_id": "ce321b50f7ce4b5e8da65c153fcdfb72",
       "version_major": 2,
       "version_minor": 0
      },
      "text/plain": [
       "  0%|          | 0/1 [00:00<?, ?it/s]"
      ]
     },
     "metadata": {},
     "output_type": "display_data"
    }
   ],
   "source": [
    "dataset = load_dataset(\"pythainlp/thai_usembassy\")"
   ]
  },
  {
   "cell_type": "code",
   "execution_count": 3,
   "metadata": {},
   "outputs": [
    {
     "data": {
      "text/plain": [
       "DatasetDict({\n",
       "    train: Dataset({\n",
       "        features: ['url', 'th', 'en', 'title_en', 'title_th'],\n",
       "        num_rows: 615\n",
       "    })\n",
       "})"
      ]
     },
     "execution_count": 3,
     "metadata": {},
     "output_type": "execute_result"
    }
   ],
   "source": [
    "dataset"
   ]
  },
  {
   "cell_type": "code",
   "execution_count": 4,
   "metadata": {},
   "outputs": [],
   "source": [
    "en2th_temp=\"\"\"แปลประโยคหรือย่อหน้าต่อไปนี้จากภาษาอังกฤษเป็นภาษาไทย:\\n{en}\"\"\"\n",
    "th2en_temp=\"\"\"แปลประโยคหรือย่อหน้าต่อไปนี้จากภาษาไทยเป็นภาษาอังกฤษ:\\n{th}\"\"\""
   ]
  },
  {
   "cell_type": "code",
   "execution_count": 5,
   "metadata": {},
   "outputs": [],
   "source": [
    "from datasets import Dataset, DatasetDict\n",
    "en2th_ds = DatasetDict()\n",
    "th2en_ds = DatasetDict()"
   ]
  },
  {
   "cell_type": "code",
   "execution_count": 6,
   "metadata": {},
   "outputs": [],
   "source": [
    "en2th_train = {\n",
    "    \"inputs\":[],\n",
    "    \"targets\":[],\n",
    "}\n",
    "th2en_train = {\n",
    "    \"inputs\":[],\n",
    "    \"targets\":[],\n",
    "}\n",
    "_t = dataset[\"train\"]\n",
    "for i in zip(_t[\"en\"],_t[\"th\"]):\n",
    "    en=i[0]\n",
    "    th=i[1]\n",
    "    en2th_train[\"inputs\"].append(en2th_temp.format(en=en))\n",
    "    th2en_train[\"inputs\"].append(th2en_temp.format(th=th))\n",
    "    en2th_train[\"targets\"].append(th)\n",
    "    th2en_train[\"targets\"].append(en)"
   ]
  },
  {
   "cell_type": "code",
   "execution_count": 7,
   "metadata": {},
   "outputs": [],
   "source": [
    "en2th_ds['train'] = Dataset.from_dict(en2th_train)"
   ]
  },
  {
   "cell_type": "code",
   "execution_count": 8,
   "metadata": {},
   "outputs": [],
   "source": [
    "th2en_ds['train'] = Dataset.from_dict(th2en_train)"
   ]
  },
  {
   "cell_type": "code",
   "execution_count": 9,
   "metadata": {},
   "outputs": [
    {
     "name": "stderr",
     "output_type": "stream",
     "text": [
      "Pushing split train to the Hub.\n"
     ]
    },
    {
     "data": {
      "application/vnd.jupyter.widget-view+json": {
       "model_id": "eaa0ba74a5f4417e94e5369675d50859",
       "version_major": 2,
       "version_minor": 0
      },
      "text/plain": [
       "Pushing dataset shards to the dataset hub:   0%|          | 0/1 [00:00<?, ?it/s]"
      ]
     },
     "metadata": {},
     "output_type": "display_data"
    },
    {
     "name": "stderr",
     "output_type": "stream",
     "text": [
      "Pushing split train to the Hub.\n"
     ]
    }
   ],
   "source": [
    "en2th_ds.push_to_hub(\"pythainlp/thai_usembassy_en2th_prompt\")\n",
    "th2en_ds.push_to_hub(\"pythainlp/thai_usembassy_th2en_prompt\")"
   ]
  },
  {
   "cell_type": "code",
   "execution_count": null,
   "metadata": {},
   "outputs": [],
   "source": []
  }
 ],
 "metadata": {
  "kernelspec": {
   "display_name": "Python 3.8.13 ('base')",
   "language": "python",
   "name": "python3"
  },
  "language_info": {
   "codemirror_mode": {
    "name": "ipython",
    "version": 3
   },
   "file_extension": ".py",
   "mimetype": "text/x-python",
   "name": "python",
   "nbconvert_exporter": "python",
   "pygments_lexer": "ipython3",
   "version": "3.8.13"
  },
  "orig_nbformat": 4,
  "vscode": {
   "interpreter": {
    "hash": "a1d6ff38954a1cdba4cf61ffa51e42f4658fc35985cd256cd89123cae8466a39"
   }
  }
 },
 "nbformat": 4,
 "nbformat_minor": 2
}
